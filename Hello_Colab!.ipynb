{
  "nbformat": 4,
  "nbformat_minor": 0,
  "metadata": {
    "colab": {
      "name": "Hello Colab!.ipynb",
      "version": "0.3.2",
      "provenance": [],
      "include_colab_link": true
    },
    "kernelspec": {
      "name": "python3",
      "display_name": "Python 3"
    }
  },
  "cells": [
    {
      "cell_type": "markdown",
      "metadata": {
        "id": "view-in-github",
        "colab_type": "text"
      },
      "source": [
        "[View in Colaboratory](https://colab.research.google.com/github/DreamsOfBunnies/LambdaWorkflowTest/blob/master/Hello_Colab!.ipynb)"
      ]
    },
    {
      "metadata": {
        "id": "rfGSXQKYV8Hr",
        "colab_type": "text"
      },
      "cell_type": "markdown",
      "source": [
        "[![Open In Colab](https://colab.research.google.com/drive/1ZAX7eaYq9mlvI2hY37n04sdYdlE5_lPn)](https://colab.research.google.com/drive/1ZAX7eaYq9mlvI2hY37n04sdYdlE5_lPn)"
      ]
    },
    {
      "metadata": {
        "id": "NBQ0aZgPhbgA",
        "colab_type": "code",
        "colab": {
          "base_uri": "https://localhost:8080/",
          "height": 34
        },
        "outputId": "27008de8-d1e9-4cc9-efcf-aeb694b6f78a"
      },
      "cell_type": "code",
      "source": [
        "# Change me!\n",
        "1 + 1"
      ],
      "execution_count": 2,
      "outputs": [
        {
          "output_type": "execute_result",
          "data": {
            "text/plain": [
              "2"
            ]
          },
          "metadata": {
            "tags": []
          },
          "execution_count": 2
        }
      ]
    },
    {
      "metadata": {
        "id": "5Jwx4mhRhwOz",
        "colab_type": "text"
      },
      "cell_type": "markdown",
      "source": [
        "And change me!"
      ]
    }
  ]
}