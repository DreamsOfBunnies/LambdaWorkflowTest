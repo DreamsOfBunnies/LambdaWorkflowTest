{
  "nbformat": 4,
  "nbformat_minor": 0,
  "metadata": {
    "colab": {
      "name": "Hello Colab!.ipynb",
      "version": "0.3.2",
      "provenance": [],
      "include_colab_link": true
    },
    "kernelspec": {
      "name": "python3",
      "display_name": "Python 3"
    }
  },
  "cells": [
    {
      "cell_type": "markdown",
      "metadata": {
        "id": "view-in-github",
        "colab_type": "text"
      },
      "source": [
        "[View in Colaboratory](https://colab.research.google.com/github/DreamsOfBunnies/LambdaWorkflowTest/blob/master/Hello_Colab!.ipynb)"
      ]
    },
    {
      "metadata": {
        "id": "NBQ0aZgPhbgA",
        "colab_type": "code",
        "outputId": "27008de8-d1e9-4cc9-efcf-aeb694b6f78a",
        "colab": {
          "base_uri": "https://localhost:8080/",
          "height": 34
        }
      },
      "cell_type": "code",
      "source": [
        "# Change me!\n",
        "1 + 2"
      ],
      "execution_count": 0,
      "outputs": [
        {
          "output_type": "execute_result",
          "data": {
            "text/plain": [
              "2"
            ]
          },
          "metadata": {
            "tags": []
          },
          "execution_count": 2
        }
      ]
    },
    {
      "metadata": {
        "id": "5Jwx4mhRhwOz",
        "colab_type": "text"
      },
      "cell_type": "markdown",
      "source": [
        "And change me! Done!"
      ]
    }
  ]
}